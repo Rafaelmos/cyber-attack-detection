{
 "cells": [
  {
   "cell_type": "code",
   "execution_count": 1,
   "metadata": {},
   "outputs": [],
   "source": [
    "import polars as pl\n",
    "import numpy as np\n",
    "from datetime import datetime\n",
    "from sklearn.preprocessing import MinMaxScaler\n",
    "from sklearn.model_selection import train_test_split\n",
    "from sklearn.metrics import accuracy_score, precision_score, recall_score, f1_score, confusion_matrix, balanced_accuracy_score\n",
    "\n",
    "import torch\n",
    "import torch.nn as nn\n",
    "import torch.optim as optim\n",
    "from torch.utils.data import TensorDataset, DataLoader"
   ]
  },
  {
   "cell_type": "code",
   "execution_count": 2,
   "metadata": {},
   "outputs": [],
   "source": [
    "df_polars = pl.read_parquet('dataset.parquet')"
   ]
  },
  {
   "cell_type": "code",
   "execution_count": 3,
   "metadata": {},
   "outputs": [],
   "source": [
    "df_polars = df_polars.sample(fraction=0.01, seed=42)"
   ]
  },
  {
   "cell_type": "code",
   "execution_count": 4,
   "metadata": {},
   "outputs": [],
   "source": [
    "df_polars = df_polars.with_columns([\n",
    "    pl.col('duration').fill_null(0),\n",
    "    pl.col('orig_bytes').fill_null(0),\n",
    "    pl.col('resp_bytes').fill_null(0)\n",
    "])"
   ]
  },
  {
   "cell_type": "code",
   "execution_count": 5,
   "metadata": {},
   "outputs": [],
   "source": [
    "df_polars = df_polars.drop([\"ts\", \"uid\", \"id.orig_h\", \"id.resp_h\", \"local_orig\", \"local_resp\", \"missed_bytes\" , \"tunnel_parents\", \"detailed-label\", \"__index_level_0__\"])"
   ]
  },
  {
   "cell_type": "code",
   "execution_count": 6,
   "metadata": {},
   "outputs": [],
   "source": [
    "X = df_polars.drop('label')\n",
    "y = df_polars['label']       "
   ]
  },
  {
   "cell_type": "code",
   "execution_count": 7,
   "metadata": {},
   "outputs": [],
   "source": [
    "scaler = MinMaxScaler()\n",
    "X = scaler.fit_transform(X)"
   ]
  },
  {
   "cell_type": "code",
   "execution_count": 8,
   "metadata": {},
   "outputs": [],
   "source": [
    "X_train, X_test, y_train, y_test = train_test_split(X, y, test_size=0.3, random_state=42, stratify=y)"
   ]
  },
  {
   "cell_type": "code",
   "execution_count": 9,
   "metadata": {},
   "outputs": [],
   "source": [
    "y_train_np = y_train.to_numpy()\n",
    "y_test_np = y_test.to_numpy()\n",
    "\n",
    "X_train_tensor = torch.tensor(X_train, dtype=torch.float32)\n",
    "X_test_tensor = torch.tensor(X_test, dtype=torch.float32)\n",
    "y_train_tensor = torch.tensor(y_train_np, dtype=torch.float32)\n",
    "y_test_tensor = torch.tensor(y_test_np, dtype=torch.float32)"
   ]
  },
  {
   "cell_type": "markdown",
   "metadata": {},
   "source": [
    "# Treinamento"
   ]
  },
  {
   "cell_type": "code",
   "execution_count": 10,
   "metadata": {},
   "outputs": [
    {
     "name": "stderr",
     "output_type": "stream",
     "text": [
      "c:\\Users\\rafae\\miniconda3\\envs\\env-tcc\\lib\\site-packages\\torch\\nn\\modules\\rnn.py:88: UserWarning: dropout option adds dropout after all but last recurrent layer, so non-zero dropout expects num_layers greater than 1, but got dropout=0.2 and num_layers=1\n",
      "  warnings.warn(\"dropout option adds dropout after all but last \"\n"
     ]
    },
    {
     "name": "stdout",
     "output_type": "stream",
     "text": [
      "<built-in method now of type object at 0x00007FFA9A814FB0>\n",
      "Epoch 1/10, fim em: 2024-09-16 10:43:14.452698\n",
      "Epoch 1/10, avaliada em: 2024-09-16 10:43:17.096477\n",
      "Epoch 2/10, fim em: 2024-09-16 10:43:24.300931\n",
      "Epoch 2/10, avaliada em: 2024-09-16 10:43:26.748514\n",
      "Epoch 3/10, fim em: 2024-09-16 10:43:33.541749\n",
      "Epoch 3/10, avaliada em: 2024-09-16 10:43:35.947888\n",
      "Epoch 4/10, fim em: 2024-09-16 10:43:42.778098\n",
      "Epoch 4/10, avaliada em: 2024-09-16 10:43:45.103757\n",
      "Epoch 5/10, fim em: 2024-09-16 10:43:52.122991\n",
      "Epoch 5/10, avaliada em: 2024-09-16 10:43:54.466289\n",
      "Epoch 6/10, fim em: 2024-09-16 10:44:01.297637\n",
      "Epoch 6/10, avaliada em: 2024-09-16 10:44:03.805894\n",
      "Epoch 7/10, fim em: 2024-09-16 10:44:10.850208\n",
      "Epoch 7/10, avaliada em: 2024-09-16 10:44:13.410384\n",
      "Epoch 8/10, fim em: 2024-09-16 10:44:21.694678\n",
      "Epoch 8/10, avaliada em: 2024-09-16 10:44:24.134181\n",
      "Epoch 9/10, fim em: 2024-09-16 10:44:31.879470\n",
      "Epoch 9/10, avaliada em: 2024-09-16 10:44:34.330458\n",
      "Epoch 10/10, fim em: 2024-09-16 10:44:41.378076\n",
      "Epoch 10/10, avaliada em: 2024-09-16 10:44:44.014057\n"
     ]
    }
   ],
   "source": [
    "class GRUClassifier(nn.Module):\n",
    "    def __init__(self, input_dim, hidden_dim, output_dim, dropout_rate):\n",
    "        super(GRUClassifier, self).__init__()\n",
    "        self.gru = nn.GRU(input_dim, hidden_dim, batch_first=True, dropout=dropout_rate, bidirectional=False)\n",
    "        self.relu = nn.ReLU()\n",
    "        self.dropout = nn.Dropout(dropout_rate)\n",
    "        self.fc = nn.Linear(hidden_dim, output_dim)\n",
    "    def forward(self, x):\n",
    "        _, hidden = self.gru(x)\n",
    "        hidden = self.relu(hidden[-1])\n",
    "        hidden = self.dropout(hidden)\n",
    "        output = self.fc(hidden)\n",
    "        return output\n",
    "\n",
    "\n",
    "device = torch.device('cuda' if torch.cuda.is_available() else 'cpu')\n",
    "\n",
    "input_dim = X_train.shape[1]  \n",
    "hidden_dim = 100  \n",
    "dropout_rate = 0.2  \n",
    "output_dim = 1  \n",
    "\n",
    "model = GRUClassifier(input_dim, hidden_dim, output_dim, dropout_rate).to(device)\n",
    "criterion = nn.BCEWithLogitsLoss()\n",
    "optimizer = optim.Adam(model.parameters(), lr=0.001)\n",
    "\n",
    "batch_size = 5000\n",
    "train_dataset = TensorDataset(X_train_tensor, y_train_tensor)\n",
    "test_dataset = TensorDataset(X_test_tensor, y_test_tensor)\n",
    "train_loader = DataLoader(train_dataset, batch_size=batch_size, shuffle=True)\n",
    "test_loader = DataLoader(test_dataset, batch_size=batch_size)\n",
    "\n",
    "criterion = nn.BCEWithLogitsLoss() \n",
    "optimizer = optim.Adam(model.parameters(), lr=0.001)\n",
    "\n",
    "results = []\n",
    "epochs = 10\n",
    "print(datetime.now)\n",
    "for epoch in range(epochs):\n",
    "    model.train()\n",
    "    epoch_loss = 0\n",
    "    for data in train_loader:\n",
    "        inputs, targets = data\n",
    "        inputs, targets = inputs.float().to(device), targets.float().to(device)\n",
    "        inputs = inputs.unsqueeze(1) \n",
    "        optimizer.zero_grad()\n",
    "        outputs = model(inputs)\n",
    "        loss = criterion(outputs.squeeze(), targets)\n",
    "        loss.backward()\n",
    "        optimizer.step()\n",
    "        epoch_loss += loss.item() * inputs.size(0)\n",
    "    print(f'Epoch {epoch+1}/{epochs}, fim em: {datetime.now()}')\n",
    "    \n",
    "    model.eval()\n",
    "    with torch.no_grad():\n",
    "        all_outputs = []\n",
    "        all_targets = []\n",
    "        for data in test_loader:\n",
    "            inputs, targets = data\n",
    "            inputs, targets = inputs.float().to(device), targets.float().to(device)\n",
    "            inputs = inputs.unsqueeze(1)  \n",
    "            outputs = model(inputs)\n",
    "            all_outputs.append(outputs.cpu())\n",
    "            all_targets.append(targets.cpu())\n",
    "        \n",
    "        all_outputs = torch.cat(all_outputs)\n",
    "        all_targets = torch.cat(all_targets)\n",
    "\n",
    "        y_pred = (all_outputs > 0.5).float().numpy()\n",
    "        y_true = all_targets.numpy()\n",
    "        print(f'Epoch {epoch+1}/{epochs}, avaliada em: {datetime.now()}')\n",
    "\n",
    "        confusion = confusion_matrix(y_true, y_pred)\n",
    "        tn, fp, fn, tp = confusion.ravel()\n",
    "        accuracy = accuracy_score(y_true, y_pred)\n",
    "        precision = precision_score(y_true, y_pred)\n",
    "        recall = recall_score(y_true, y_pred)\n",
    "        specificity = tn / (tn + fp)\n",
    "        f1 = f1_score(y_true, y_pred)\n",
    "        balanced_accuracy = balanced_accuracy_score(y_true, y_pred)\n",
    "        false_alarm_rate = fp / (fp + tn) if (fp + tn) > 0 else 0\n",
    "        \n",
    "\n",
    "    results.append([epoch+1, accuracy, balanced_accuracy, precision, recall, specificity, f1, false_alarm_rate, tn, fp, fn, tp])\n"
   ]
  },
  {
   "cell_type": "code",
   "execution_count": 11,
   "metadata": {},
   "outputs": [
    {
     "name": "stderr",
     "output_type": "stream",
     "text": [
      "c:\\Users\\rafae\\miniconda3\\envs\\env-tcc\\lib\\functools.py:889: DataOrientationWarning: Row orientation inferred during DataFrame construction. Explicitly specify the orientation by passing `orient=\"row\"` to silence this warning.\n",
      "  return dispatch(args[0].__class__)(*args, **kw)\n"
     ]
    },
    {
     "data": {
      "text/html": [
       "<div><style>\n",
       ".dataframe > thead > tr,\n",
       ".dataframe > tbody > tr {\n",
       "  text-align: right;\n",
       "  white-space: pre-wrap;\n",
       "}\n",
       "</style>\n",
       "<small>shape: (10, 12)</small><table border=\"1\" class=\"dataframe\"><thead><tr><th>Epoch</th><th>Accuracy</th><th>Balanced Accuracy</th><th>Precision</th><th>Recall</th><th>Specificity</th><th>F1-score</th><th>False Alarm Rate</th><th>tn</th><th>fp</th><th>fn</th><th>tp</th></tr><tr><td>i64</td><td>f64</td><td>f64</td><td>f64</td><td>f64</td><td>f64</td><td>f64</td><td>f64</td><td>i64</td><td>i64</td><td>i64</td><td>i64</td></tr></thead><tbody><tr><td>1</td><td>0.839677</td><td>0.5</td><td>0.839677</td><td>1.0</td><td>0.0</td><td>0.912853</td><td>1.0</td><td>0</td><td>26705</td><td>0</td><td>139865</td></tr><tr><td>2</td><td>0.839677</td><td>0.5</td><td>0.839677</td><td>1.0</td><td>0.0</td><td>0.912853</td><td>1.0</td><td>0</td><td>26705</td><td>0</td><td>139865</td></tr><tr><td>3</td><td>0.934388</td><td>0.809266</td><td>0.932787</td><td>0.993444</td><td>0.625089</td><td>0.96216</td><td>0.374911</td><td>16693</td><td>10012</td><td>917</td><td>138948</td></tr><tr><td>4</td><td>0.977877</td><td>0.960196</td><td>0.987416</td><td>0.986222</td><td>0.93417</td><td>0.986819</td><td>0.06583</td><td>24947</td><td>1758</td><td>1927</td><td>137938</td></tr><tr><td>5</td><td>0.977247</td><td>0.959972</td><td>0.987476</td><td>0.9854</td><td>0.934544</td><td>0.986437</td><td>0.065456</td><td>24957</td><td>1748</td><td>2042</td><td>137823</td></tr><tr><td>6</td><td>0.977235</td><td>0.960026</td><td>0.987504</td><td>0.985357</td><td>0.934694</td><td>0.986429</td><td>0.065306</td><td>24961</td><td>1744</td><td>2048</td><td>137817</td></tr><tr><td>7</td><td>0.977775</td><td>0.961589</td><td>0.988085</td><td>0.985415</td><td>0.937764</td><td>0.986748</td><td>0.062236</td><td>25043</td><td>1662</td><td>2040</td><td>137825</td></tr><tr><td>8</td><td>0.97846</td><td>0.963678</td><td>0.988872</td><td>0.985436</td><td>0.941921</td><td>0.987151</td><td>0.058079</td><td>25154</td><td>1551</td><td>2037</td><td>137828</td></tr><tr><td>9</td><td>0.979156</td><td>0.965744</td><td>0.989647</td><td>0.985486</td><td>0.946003</td><td>0.987562</td><td>0.053997</td><td>25263</td><td>1442</td><td>2030</td><td>137835</td></tr><tr><td>10</td><td>0.979846</td><td>0.967776</td><td>0.990408</td><td>0.985543</td><td>0.950009</td><td>0.98797</td><td>0.049991</td><td>25370</td><td>1335</td><td>2022</td><td>137843</td></tr></tbody></table></div>"
      ],
      "text/plain": [
       "shape: (10, 12)\n",
       "┌───────┬──────────┬───────────────────┬───────────┬───┬───────┬───────┬──────┬────────┐\n",
       "│ Epoch ┆ Accuracy ┆ Balanced Accuracy ┆ Precision ┆ … ┆ tn    ┆ fp    ┆ fn   ┆ tp     │\n",
       "│ ---   ┆ ---      ┆ ---               ┆ ---       ┆   ┆ ---   ┆ ---   ┆ ---  ┆ ---    │\n",
       "│ i64   ┆ f64      ┆ f64               ┆ f64       ┆   ┆ i64   ┆ i64   ┆ i64  ┆ i64    │\n",
       "╞═══════╪══════════╪═══════════════════╪═══════════╪═══╪═══════╪═══════╪══════╪════════╡\n",
       "│ 1     ┆ 0.839677 ┆ 0.5               ┆ 0.839677  ┆ … ┆ 0     ┆ 26705 ┆ 0    ┆ 139865 │\n",
       "│ 2     ┆ 0.839677 ┆ 0.5               ┆ 0.839677  ┆ … ┆ 0     ┆ 26705 ┆ 0    ┆ 139865 │\n",
       "│ 3     ┆ 0.934388 ┆ 0.809266          ┆ 0.932787  ┆ … ┆ 16693 ┆ 10012 ┆ 917  ┆ 138948 │\n",
       "│ 4     ┆ 0.977877 ┆ 0.960196          ┆ 0.987416  ┆ … ┆ 24947 ┆ 1758  ┆ 1927 ┆ 137938 │\n",
       "│ 5     ┆ 0.977247 ┆ 0.959972          ┆ 0.987476  ┆ … ┆ 24957 ┆ 1748  ┆ 2042 ┆ 137823 │\n",
       "│ 6     ┆ 0.977235 ┆ 0.960026          ┆ 0.987504  ┆ … ┆ 24961 ┆ 1744  ┆ 2048 ┆ 137817 │\n",
       "│ 7     ┆ 0.977775 ┆ 0.961589          ┆ 0.988085  ┆ … ┆ 25043 ┆ 1662  ┆ 2040 ┆ 137825 │\n",
       "│ 8     ┆ 0.97846  ┆ 0.963678          ┆ 0.988872  ┆ … ┆ 25154 ┆ 1551  ┆ 2037 ┆ 137828 │\n",
       "│ 9     ┆ 0.979156 ┆ 0.965744          ┆ 0.989647  ┆ … ┆ 25263 ┆ 1442  ┆ 2030 ┆ 137835 │\n",
       "│ 10    ┆ 0.979846 ┆ 0.967776          ┆ 0.990408  ┆ … ┆ 25370 ┆ 1335  ┆ 2022 ┆ 137843 │\n",
       "└───────┴──────────┴───────────────────┴───────────┴───┴───────┴───────┴──────┴────────┘"
      ]
     },
     "execution_count": 11,
     "metadata": {},
     "output_type": "execute_result"
    }
   ],
   "source": [
    "metrics_df = pl.DataFrame(\n",
    "    results,\n",
    "    schema=['Epoch', 'Accuracy', 'Balanced Accuracy', 'Precision', 'Recall', 'Specificity', 'F1-score', 'False Alarm Rate', 'tn', 'fp', 'fn', 'tp']\n",
    ")\n",
    "metrics_df"
   ]
  }
 ],
 "metadata": {
  "kernelspec": {
   "display_name": "env-tcc",
   "language": "python",
   "name": "python3"
  },
  "language_info": {
   "codemirror_mode": {
    "name": "ipython",
    "version": 3
   },
   "file_extension": ".py",
   "mimetype": "text/x-python",
   "name": "python",
   "nbconvert_exporter": "python",
   "pygments_lexer": "ipython3",
   "version": "3.10.13"
  }
 },
 "nbformat": 4,
 "nbformat_minor": 2
}
