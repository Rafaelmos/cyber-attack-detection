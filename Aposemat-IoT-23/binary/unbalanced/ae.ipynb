{
 "cells": [
  {
   "cell_type": "code",
   "execution_count": 2,
   "metadata": {},
   "outputs": [],
   "source": [
    "import polars as pl\n",
    "import numpy as np\n",
    "from datetime import datetime\n",
    "from sklearn.preprocessing import MinMaxScaler\n",
    "from sklearn.model_selection import train_test_split\n",
    "from sklearn.metrics import accuracy_score, precision_score, recall_score, f1_score, confusion_matrix, balanced_accuracy_score\n",
    "\n",
    "import torch\n",
    "import torch.nn as nn\n",
    "import torch.optim as optim\n",
    "from torch.utils.data import DataLoader, TensorDataset"
   ]
  },
  {
   "cell_type": "code",
   "execution_count": 3,
   "metadata": {},
   "outputs": [],
   "source": [
    "df_polars = pl.read_parquet('dataset.parquet')"
   ]
  },
  {
   "cell_type": "code",
   "execution_count": 4,
   "metadata": {},
   "outputs": [],
   "source": [
    "df_polars = df_polars.sample(fraction=0.01, seed=42)"
   ]
  },
  {
   "cell_type": "code",
   "execution_count": 5,
   "metadata": {},
   "outputs": [],
   "source": [
    "df_polars = df_polars.with_columns([\n",
    "    pl.col('duration').fill_null(0),\n",
    "    pl.col('orig_bytes').fill_null(0),\n",
    "    pl.col('resp_bytes').fill_null(0)\n",
    "])"
   ]
  },
  {
   "cell_type": "code",
   "execution_count": 6,
   "metadata": {},
   "outputs": [],
   "source": [
    "df_polars = df_polars.drop([\"ts\", \"uid\", \"id.orig_h\", \"id.resp_h\", \"local_orig\", \"local_resp\", \"missed_bytes\" , \"tunnel_parents\", \"detailed-label\", \"__index_level_0__\"])"
   ]
  },
  {
   "cell_type": "code",
   "execution_count": 7,
   "metadata": {},
   "outputs": [],
   "source": [
    "X = df_polars.drop('label')\n",
    "y = df_polars['label']       "
   ]
  },
  {
   "cell_type": "code",
   "execution_count": 8,
   "metadata": {},
   "outputs": [],
   "source": [
    "scaler = MinMaxScaler()\n",
    "X = scaler.fit_transform(X)"
   ]
  },
  {
   "cell_type": "code",
   "execution_count": 9,
   "metadata": {},
   "outputs": [],
   "source": [
    "X_train, X_test, y_train, y_test = train_test_split(X, y, test_size=0.3, random_state=42, stratify=y)"
   ]
  },
  {
   "cell_type": "code",
   "execution_count": 10,
   "metadata": {},
   "outputs": [],
   "source": [
    "y_train_np = y_train.to_numpy()\n",
    "y_test_np = y_test.to_numpy()\n",
    "\n",
    "X_train_tensor = torch.tensor(X_train, dtype=torch.float32)\n",
    "X_test_tensor = torch.tensor(X_test, dtype=torch.float32)\n",
    "y_train_tensor = torch.tensor(y_train_np, dtype=torch.float32)\n",
    "y_test_tensor = torch.tensor(y_test_np, dtype=torch.float32)"
   ]
  },
  {
   "cell_type": "code",
   "execution_count": 11,
   "metadata": {},
   "outputs": [],
   "source": [
    "batch_size = 5000\n",
    "train_dataset = TensorDataset(X_train_tensor, y_train_tensor)\n",
    "test_dataset = TensorDataset(X_test_tensor, y_test_tensor)\n",
    "train_loader = DataLoader(train_dataset, batch_size=batch_size, shuffle=True)\n",
    "test_loader = DataLoader(test_dataset, batch_size=batch_size)"
   ]
  },
  {
   "cell_type": "markdown",
   "metadata": {},
   "source": [
    "# Treinamento"
   ]
  },
  {
   "cell_type": "code",
   "execution_count": 12,
   "metadata": {},
   "outputs": [
    {
     "name": "stdout",
     "output_type": "stream",
     "text": [
      "2024-09-16 17:49:36.771548\n",
      "Epoch 1/25, fim em: 2024-09-16 17:49:43.749126\n",
      "Epoch 1/25, avaliada em: 2024-09-16 17:49:52.956208\n",
      "Epoch 2/25, fim em: 2024-09-16 17:49:59.288640\n",
      "Epoch 2/25, avaliada em: 2024-09-16 17:50:08.167649\n",
      "Epoch 3/25, fim em: 2024-09-16 17:50:15.143226\n",
      "Epoch 3/25, avaliada em: 2024-09-16 17:50:23.935214\n",
      "Epoch 4/25, fim em: 2024-09-16 17:50:30.507701\n",
      "Epoch 4/25, avaliada em: 2024-09-16 17:50:39.221672\n",
      "Epoch 5/25, fim em: 2024-09-16 17:50:45.487089\n",
      "Epoch 5/25, avaliada em: 2024-09-16 17:50:54.039023\n",
      "Epoch 6/25, fim em: 2024-09-16 17:51:00.383458\n",
      "Epoch 6/25, avaliada em: 2024-09-16 17:51:08.619321\n",
      "Epoch 7/25, fim em: 2024-09-16 17:51:14.785715\n",
      "Epoch 7/25, avaliada em: 2024-09-16 17:51:22.968566\n",
      "Epoch 8/25, fim em: 2024-09-16 17:51:28.988928\n",
      "Epoch 8/25, avaliada em: 2024-09-16 17:51:37.032843\n",
      "Epoch 9/25, fim em: 2024-09-16 17:51:43.169623\n",
      "Epoch 9/25, avaliada em: 2024-09-16 17:51:51.409486\n",
      "Epoch 10/25, fim em: 2024-09-16 17:51:57.521870\n",
      "Epoch 10/25, avaliada em: 2024-09-16 17:52:05.772735\n",
      "Epoch 11/25, fim em: 2024-09-16 17:52:11.857111\n",
      "Epoch 11/25, avaliada em: 2024-09-16 17:52:20.011967\n",
      "Epoch 12/25, fim em: 2024-09-16 17:52:26.115993\n",
      "Epoch 12/25, avaliada em: 2024-09-16 17:52:34.212824\n",
      "Epoch 13/25, fim em: 2024-09-16 17:52:40.461237\n",
      "Epoch 13/25, avaliada em: 2024-09-16 17:52:49.028174\n",
      "Epoch 14/25, fim em: 2024-09-16 17:52:55.034533\n",
      "Epoch 14/25, avaliada em: 2024-09-16 17:53:03.474442\n",
      "Epoch 15/25, fim em: 2024-09-16 17:53:09.768865\n",
      "Epoch 15/25, avaliada em: 2024-09-16 17:53:23.707746\n",
      "Epoch 16/25, fim em: 2024-09-16 17:53:30.512285\n",
      "Epoch 16/25, avaliada em: 2024-09-16 17:53:39.168243\n",
      "Epoch 17/25, fim em: 2024-09-16 17:53:45.675715\n",
      "Epoch 17/25, avaliada em: 2024-09-16 17:53:54.395687\n",
      "Epoch 18/25, fim em: 2024-09-16 17:54:01.303249\n",
      "Epoch 18/25, avaliada em: 2024-09-16 17:54:10.403308\n",
      "Epoch 19/25, fim em: 2024-09-16 17:54:17.076817\n",
      "Epoch 19/25, avaliada em: 2024-09-16 17:54:27.065802\n",
      "Epoch 20/25, fim em: 2024-09-16 17:54:34.229526\n",
      "Epoch 20/25, avaliada em: 2024-09-16 17:54:43.650656\n",
      "Epoch 21/25, fim em: 2024-09-16 17:54:50.460228\n",
      "Epoch 21/25, avaliada em: 2024-09-16 17:54:59.539282\n",
      "Epoch 22/25, fim em: 2024-09-16 17:55:06.481128\n",
      "Epoch 22/25, avaliada em: 2024-09-16 17:55:15.865769\n",
      "Epoch 23/25, fim em: 2024-09-16 17:55:22.761376\n",
      "Epoch 23/25, avaliada em: 2024-09-16 17:55:32.086880\n",
      "Epoch 24/25, fim em: 2024-09-16 17:55:38.903940\n",
      "Epoch 24/25, avaliada em: 2024-09-16 17:55:48.196549\n",
      "Epoch 25/25, fim em: 2024-09-16 17:55:55.313863\n",
      "Epoch 25/25, avaliada em: 2024-09-16 17:56:04.785023\n"
     ]
    }
   ],
   "source": [
    "class Autoencoder(nn.Module):\n",
    "    def __init__(self, input_dim):\n",
    "        super(Autoencoder, self).__init__()\n",
    "        self.encoder = nn.Sequential(\n",
    "            nn.Linear(input_dim, 32),\n",
    "            nn.ReLU(),\n",
    "            nn.Linear(32, 8),\n",
    "            nn.ReLU(), \n",
    "        )\n",
    "        self.decoder = nn.Sequential(\n",
    "            nn.Linear(8, 32),\n",
    "            nn.ReLU(),\n",
    "            nn.Linear(32, input_dim) \n",
    "        )\n",
    "        \n",
    "    def forward(self, x):\n",
    "        encoded = self.encoder(x)\n",
    "        decoded = self.decoder(encoded)\n",
    "        return decoded\n",
    "\n",
    "device = torch.device('cuda' if torch.cuda.is_available() else 'cpu')\n",
    "X_train= torch.tensor(X_train, dtype=torch.float32).to(device)\n",
    "X_test = torch.tensor(X_test, dtype=torch.float32).to(device)\n",
    "\n",
    "input_dim = X_train.shape[1]\n",
    "model = Autoencoder(input_dim).to(device)\n",
    "\n",
    "criterion = nn.MSELoss()\n",
    "optimizer = optim.Adam(model.parameters(), lr=0.001)\n",
    "\n",
    "results = []\n",
    "epochs = 25\n",
    "print(datetime.now())\n",
    "for epoch in range(epochs):\n",
    "    model.train()\n",
    "    epoch_loss = 0\n",
    "    for data in train_loader:\n",
    "        inputs = data[0].to(device)\n",
    "        optimizer.zero_grad()\n",
    "        outputs = model(inputs)\n",
    "        loss = criterion(outputs, inputs)\n",
    "        loss.backward()\n",
    "        optimizer.step()\n",
    "        epoch_loss += loss.item() * inputs.size(0)\n",
    "\n",
    "    print(f'Epoch {epoch+1}/{epochs}, fim em: {datetime.now()}')\n",
    "    \n",
    "    model.eval()\n",
    "    all_outputs_train = []\n",
    "    all_targets_train = []\n",
    "    with torch.no_grad():\n",
    "        for data in train_loader:\n",
    "            inputs = data[0].to(device)\n",
    "            outputs = model(inputs)\n",
    "            all_outputs_train.append(outputs.cpu())\n",
    "            all_targets_train.append(inputs.cpu())\n",
    "\n",
    "    all_outputs_train = torch.cat(all_outputs_train)\n",
    "    all_targets_train = torch.cat(all_targets_train)\n",
    "    reconstruction_error_train = torch.mean((all_outputs_train - all_targets_train) ** 2, dim=1).cpu().numpy()\n",
    "\n",
    "    THRESHOLD_SAMPLE_PERCENTAGE = 1 / 100\n",
    "    top_n_values_train = np.partition(-reconstruction_error_train, int(round(reconstruction_error_train.shape[0] * THRESHOLD_SAMPLE_PERCENTAGE)))\n",
    "    threshold = np.median(-top_n_values_train[:int(round(reconstruction_error_train.shape[0] * THRESHOLD_SAMPLE_PERCENTAGE))])\n",
    "\n",
    "    all_outputs_test = []\n",
    "    all_targets_test = []\n",
    "    with torch.no_grad():\n",
    "        for data in test_loader:\n",
    "            inputs = data[0].to(device)\n",
    "            outputs = model(inputs)\n",
    "            all_outputs_test.append(outputs.cpu())\n",
    "            all_targets_test.append(inputs.cpu())\n",
    "\n",
    "    all_outputs_test = torch.cat(all_outputs_test)\n",
    "    all_targets_test = torch.cat(all_targets_test)\n",
    "    reconstruction_error_test = torch.mean((all_outputs_test - all_targets_test) ** 2, dim=1).cpu().numpy()\n",
    "\n",
    "    y_pred = (reconstruction_error_test > threshold).astype(int)\n",
    "    print(f'Epoch {epoch+1}/{epochs}, avaliada em: {datetime.now()}')\n",
    "\n",
    "    confusion = confusion_matrix(y_test, y_pred)\n",
    "    tn, fp, fn, tp = confusion.ravel()\n",
    "    accuracy = accuracy_score(y_test, y_pred)\n",
    "    precision = precision_score(y_test, y_pred)\n",
    "    recall = recall_score(y_test, y_pred)\n",
    "    specificity = tn / (tn + fp)\n",
    "    f1 = f1_score(y_test, y_pred)\n",
    "    balanced_accuracy = balanced_accuracy_score(y_test, y_pred)\n",
    "    false_alarm_rate = fp / (fp + tn) if (fp + tn) > 0 else 0\n",
    "\n",
    "    results.append([epoch+1, accuracy, balanced_accuracy, precision, recall, specificity, f1, false_alarm_rate, tn, fp, fn, tp])"
   ]
  },
  {
   "cell_type": "code",
   "execution_count": 13,
   "metadata": {},
   "outputs": [
    {
     "name": "stderr",
     "output_type": "stream",
     "text": [
      "c:\\Users\\rafae\\miniconda3\\envs\\env-tcc\\lib\\functools.py:889: DataOrientationWarning: Row orientation inferred during DataFrame construction. Explicitly specify the orientation by passing `orient=\"row\"` to silence this warning.\n",
      "  return dispatch(args[0].__class__)(*args, **kw)\n"
     ]
    },
    {
     "data": {
      "text/html": [
       "<div><style>\n",
       ".dataframe > thead > tr,\n",
       ".dataframe > tbody > tr {\n",
       "  text-align: right;\n",
       "  white-space: pre-wrap;\n",
       "}\n",
       "</style>\n",
       "<small>shape: (25, 12)</small><table border=\"1\" class=\"dataframe\"><thead><tr><th>epoch</th><th>Accuracy</th><th>Balanced Accuracy</th><th>Precision</th><th>Recall</th><th>Specificity</th><th>F1-score</th><th>False Alarm Rate</th><th>tn</th><th>fp</th><th>fn</th><th>tp</th></tr><tr><td>i64</td><td>f64</td><td>f64</td><td>f64</td><td>f64</td><td>f64</td><td>f64</td><td>f64</td><td>i64</td><td>i64</td><td>i64</td><td>i64</td></tr></thead><tbody><tr><td>1</td><td>0.165078</td><td>0.502619</td><td>0.982927</td><td>0.005763</td><td>0.999476</td><td>0.011458</td><td>0.000524</td><td>26691</td><td>14</td><td>139059</td><td>806</td></tr><tr><td>2</td><td>0.163619</td><td>0.499902</td><td>0.834348</td><td>0.004898</td><td>0.994907</td><td>0.009738</td><td>0.005093</td><td>26569</td><td>136</td><td>139180</td><td>685</td></tr><tr><td>3</td><td>0.161932</td><td>0.496747</td><td>0.662621</td><td>0.003904</td><td>0.98959</td><td>0.007762</td><td>0.01041</td><td>26427</td><td>278</td><td>139319</td><td>546</td></tr><tr><td>4</td><td>0.16192</td><td>0.496603</td><td>0.658333</td><td>0.003954</td><td>0.989253</td><td>0.00786</td><td>0.010747</td><td>26418</td><td>287</td><td>139312</td><td>553</td></tr><tr><td>5</td><td>0.162388</td><td>0.497443</td><td>0.703791</td><td>0.004247</td><td>0.990638</td><td>0.008443</td><td>0.009362</td><td>26455</td><td>250</td><td>139271</td><td>594</td></tr><tr><td>&hellip;</td><td>&hellip;</td><td>&hellip;</td><td>&hellip;</td><td>&hellip;</td><td>&hellip;</td><td>&hellip;</td><td>&hellip;</td><td>&hellip;</td><td>&hellip;</td><td>&hellip;</td><td>&hellip;</td></tr><tr><td>21</td><td>0.159651</td><td>0.492647</td><td>0.430521</td><td>0.002481</td><td>0.982812</td><td>0.004933</td><td>0.017188</td><td>26246</td><td>459</td><td>139518</td><td>347</td></tr><tr><td>22</td><td>0.159717</td><td>0.492716</td><td>0.437884</td><td>0.002545</td><td>0.982887</td><td>0.005061</td><td>0.017113</td><td>26248</td><td>457</td><td>139509</td><td>356</td></tr><tr><td>23</td><td>0.159567</td><td>0.492475</td><td>0.42203</td><td>0.002438</td><td>0.982513</td><td>0.004848</td><td>0.017487</td><td>26238</td><td>467</td><td>139524</td><td>341</td></tr><tr><td>24</td><td>0.15947</td><td>0.492342</td><td>0.411471</td><td>0.002359</td><td>0.982325</td><td>0.004692</td><td>0.017675</td><td>26233</td><td>472</td><td>139535</td><td>330</td></tr><tr><td>25</td><td>0.159368</td><td>0.49216</td><td>0.400749</td><td>0.002295</td><td>0.982026</td><td>0.004564</td><td>0.017974</td><td>26225</td><td>480</td><td>139544</td><td>321</td></tr></tbody></table></div>"
      ],
      "text/plain": [
       "shape: (25, 12)\n",
       "┌───────┬──────────┬───────────────────┬───────────┬───┬───────┬─────┬────────┬─────┐\n",
       "│ epoch ┆ Accuracy ┆ Balanced Accuracy ┆ Precision ┆ … ┆ tn    ┆ fp  ┆ fn     ┆ tp  │\n",
       "│ ---   ┆ ---      ┆ ---               ┆ ---       ┆   ┆ ---   ┆ --- ┆ ---    ┆ --- │\n",
       "│ i64   ┆ f64      ┆ f64               ┆ f64       ┆   ┆ i64   ┆ i64 ┆ i64    ┆ i64 │\n",
       "╞═══════╪══════════╪═══════════════════╪═══════════╪═══╪═══════╪═════╪════════╪═════╡\n",
       "│ 1     ┆ 0.165078 ┆ 0.502619          ┆ 0.982927  ┆ … ┆ 26691 ┆ 14  ┆ 139059 ┆ 806 │\n",
       "│ 2     ┆ 0.163619 ┆ 0.499902          ┆ 0.834348  ┆ … ┆ 26569 ┆ 136 ┆ 139180 ┆ 685 │\n",
       "│ 3     ┆ 0.161932 ┆ 0.496747          ┆ 0.662621  ┆ … ┆ 26427 ┆ 278 ┆ 139319 ┆ 546 │\n",
       "│ 4     ┆ 0.16192  ┆ 0.496603          ┆ 0.658333  ┆ … ┆ 26418 ┆ 287 ┆ 139312 ┆ 553 │\n",
       "│ 5     ┆ 0.162388 ┆ 0.497443          ┆ 0.703791  ┆ … ┆ 26455 ┆ 250 ┆ 139271 ┆ 594 │\n",
       "│ …     ┆ …        ┆ …                 ┆ …         ┆ … ┆ …     ┆ …   ┆ …      ┆ …   │\n",
       "│ 21    ┆ 0.159651 ┆ 0.492647          ┆ 0.430521  ┆ … ┆ 26246 ┆ 459 ┆ 139518 ┆ 347 │\n",
       "│ 22    ┆ 0.159717 ┆ 0.492716          ┆ 0.437884  ┆ … ┆ 26248 ┆ 457 ┆ 139509 ┆ 356 │\n",
       "│ 23    ┆ 0.159567 ┆ 0.492475          ┆ 0.42203   ┆ … ┆ 26238 ┆ 467 ┆ 139524 ┆ 341 │\n",
       "│ 24    ┆ 0.15947  ┆ 0.492342          ┆ 0.411471  ┆ … ┆ 26233 ┆ 472 ┆ 139535 ┆ 330 │\n",
       "│ 25    ┆ 0.159368 ┆ 0.49216           ┆ 0.400749  ┆ … ┆ 26225 ┆ 480 ┆ 139544 ┆ 321 │\n",
       "└───────┴──────────┴───────────────────┴───────────┴───┴───────┴─────┴────────┴─────┘"
      ]
     },
     "execution_count": 13,
     "metadata": {},
     "output_type": "execute_result"
    }
   ],
   "source": [
    "metrics_df = pl.DataFrame(\n",
    "    results,\n",
    "    schema=['epoch', 'Accuracy', 'Balanced Accuracy', 'Precision', 'Recall', 'Specificity', 'F1-score', 'False Alarm Rate', 'tn', 'fp', 'fn', 'tp']\n",
    ")\n",
    "metrics_df"
   ]
  }
 ],
 "metadata": {
  "kernelspec": {
   "display_name": "env-tcc",
   "language": "python",
   "name": "python3"
  },
  "language_info": {
   "codemirror_mode": {
    "name": "ipython",
    "version": 3
   },
   "file_extension": ".py",
   "mimetype": "text/x-python",
   "name": "python",
   "nbconvert_exporter": "python",
   "pygments_lexer": "ipython3",
   "version": "3.10.13"
  }
 },
 "nbformat": 4,
 "nbformat_minor": 2
}
