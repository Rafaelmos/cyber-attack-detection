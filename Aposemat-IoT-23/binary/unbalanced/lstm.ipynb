{
 "cells": [
  {
   "cell_type": "code",
   "execution_count": 1,
   "metadata": {},
   "outputs": [],
   "source": [
    "import polars as pl\n",
    "import numpy as np\n",
    "from datetime import datetime\n",
    "from sklearn.preprocessing import MinMaxScaler\n",
    "from sklearn.model_selection import train_test_split\n",
    "from sklearn.metrics import accuracy_score, precision_score, recall_score, f1_score, confusion_matrix, balanced_accuracy_score\n",
    "\n",
    "import torch\n",
    "import torch.nn as nn\n",
    "import torch.optim as optim\n",
    "from torch.utils.data import TensorDataset, DataLoader"
   ]
  },
  {
   "cell_type": "code",
   "execution_count": 2,
   "metadata": {},
   "outputs": [],
   "source": [
    "df_polars = pl.read_parquet('dataset.parquet')"
   ]
  },
  {
   "cell_type": "code",
   "execution_count": 3,
   "metadata": {},
   "outputs": [],
   "source": [
    "df_polars = df_polars.sample(fraction=0.01, seed=42)"
   ]
  },
  {
   "cell_type": "code",
   "execution_count": 4,
   "metadata": {},
   "outputs": [],
   "source": [
    "df_polars = df_polars.with_columns([\n",
    "    pl.col('duration').fill_null(0),\n",
    "    pl.col('orig_bytes').fill_null(0),\n",
    "    pl.col('resp_bytes').fill_null(0)\n",
    "])"
   ]
  },
  {
   "cell_type": "code",
   "execution_count": 5,
   "metadata": {},
   "outputs": [],
   "source": [
    "df_polars = df_polars.drop([\"ts\", \"uid\", \"id.orig_h\", \"id.resp_h\", \"local_orig\", \"local_resp\", \"missed_bytes\" , \"tunnel_parents\", \"detailed-label\", \"__index_level_0__\"])"
   ]
  },
  {
   "cell_type": "code",
   "execution_count": 6,
   "metadata": {},
   "outputs": [],
   "source": [
    "X = df_polars.drop('label')\n",
    "y = df_polars['label']       "
   ]
  },
  {
   "cell_type": "code",
   "execution_count": 7,
   "metadata": {},
   "outputs": [],
   "source": [
    "scaler = MinMaxScaler()\n",
    "X = scaler.fit_transform(X)"
   ]
  },
  {
   "cell_type": "code",
   "execution_count": 8,
   "metadata": {},
   "outputs": [],
   "source": [
    "X_train, X_test, y_train, y_test = train_test_split(X, y, test_size=0.3, random_state=42, stratify=y)"
   ]
  },
  {
   "cell_type": "code",
   "execution_count": 9,
   "metadata": {},
   "outputs": [],
   "source": [
    "y_train_np = y_train.to_numpy()\n",
    "y_test_np = y_test.to_numpy()\n",
    "\n",
    "X_train_tensor = torch.tensor(X_train, dtype=torch.float32)\n",
    "X_test_tensor = torch.tensor(X_test, dtype=torch.float32)\n",
    "y_train_tensor = torch.tensor(y_train_np, dtype=torch.float32)\n",
    "y_test_tensor = torch.tensor(y_test_np, dtype=torch.float32)"
   ]
  },
  {
   "cell_type": "markdown",
   "metadata": {},
   "source": [
    "# Treinamento"
   ]
  },
  {
   "cell_type": "code",
   "execution_count": 10,
   "metadata": {},
   "outputs": [
    {
     "name": "stderr",
     "output_type": "stream",
     "text": [
      "c:\\Users\\rafae\\miniconda3\\envs\\env-tcc\\lib\\site-packages\\torch\\nn\\modules\\rnn.py:88: UserWarning: dropout option adds dropout after all but last recurrent layer, so non-zero dropout expects num_layers greater than 1, but got dropout=0.2 and num_layers=1\n",
      "  warnings.warn(\"dropout option adds dropout after all but last \"\n"
     ]
    },
    {
     "name": "stdout",
     "output_type": "stream",
     "text": [
      "<built-in method now of type object at 0x00007FFA9A814FB0>\n",
      "Epoch 1/10, fim em: 2024-09-16 09:42:47.411553\n",
      "Epoch 1/10, avaliada em: 2024-09-16 09:42:50.061152\n",
      "Epoch 2/10, fim em: 2024-09-16 09:42:57.719669\n",
      "Epoch 2/10, avaliada em: 2024-09-16 09:43:00.256513\n",
      "Epoch 3/10, fim em: 2024-09-16 09:43:08.088709\n",
      "Epoch 3/10, avaliada em: 2024-09-16 09:43:10.783507\n",
      "Epoch 4/10, fim em: 2024-09-16 09:43:19.027756\n",
      "Epoch 4/10, avaliada em: 2024-09-16 09:43:21.749582\n",
      "Epoch 5/10, fim em: 2024-09-16 09:43:29.144207\n",
      "Epoch 5/10, avaliada em: 2024-09-16 09:43:31.543609\n",
      "Epoch 6/10, fim em: 2024-09-16 09:43:38.554801\n",
      "Epoch 6/10, avaliada em: 2024-09-16 09:43:40.949802\n",
      "Epoch 7/10, fim em: 2024-09-16 09:43:47.869846\n",
      "Epoch 7/10, avaliada em: 2024-09-16 09:43:50.137648\n",
      "Epoch 8/10, fim em: 2024-09-16 09:43:57.139823\n",
      "Epoch 8/10, avaliada em: 2024-09-16 09:43:59.461845\n",
      "Epoch 9/10, fim em: 2024-09-16 09:44:06.465869\n",
      "Epoch 9/10, avaliada em: 2024-09-16 09:44:08.876059\n",
      "Epoch 10/10, fim em: 2024-09-16 09:44:15.958672\n",
      "Epoch 10/10, avaliada em: 2024-09-16 09:44:18.357558\n"
     ]
    }
   ],
   "source": [
    "class LSTMClassifier(nn.Module):\n",
    "    def __init__(self, input_dim, hidden_dim, output_dim, dropout_rate):\n",
    "        super(LSTMClassifier, self).__init__()\n",
    "        self.lstm = nn.LSTM(input_dim, hidden_dim, batch_first=True, dropout=dropout_rate, bidirectional=False)\n",
    "        self.relu = nn.ReLU()\n",
    "        self.dropout = nn.Dropout(dropout_rate)\n",
    "        self.fc = nn.Linear(hidden_dim, output_dim)\n",
    "\n",
    "    def forward(self, x):\n",
    "        lstm_out, (hidden, _) = self.lstm(x)\n",
    "        hidden = self.relu(hidden[-1])\n",
    "        hidden = self.dropout(hidden)\n",
    "        output = self.fc(hidden)\n",
    "        return output\n",
    "\n",
    "device = torch.device('cuda' if torch.cuda.is_available() else 'cpu')\n",
    "\n",
    "input_dim = X_train.shape[1]  \n",
    "hidden_dim = 100  \n",
    "dropout_rate = 0.2  \n",
    "output_dim = 1  \n",
    "\n",
    "model = LSTMClassifier(input_dim, hidden_dim, output_dim, dropout_rate).to(device)\n",
    "\n",
    "batch_size = 5000\n",
    "train_dataset = TensorDataset(X_train_tensor, y_train_tensor)\n",
    "test_dataset = TensorDataset(X_test_tensor, y_test_tensor)\n",
    "train_loader = DataLoader(train_dataset, batch_size=batch_size, shuffle=True)\n",
    "test_loader = DataLoader(test_dataset, batch_size=batch_size)\n",
    "\n",
    "criterion = nn.BCEWithLogitsLoss() \n",
    "optimizer = optim.Adam(model.parameters(), lr=0.001)\n",
    "\n",
    "results = []\n",
    "epochs = 10\n",
    "print(datetime.now)\n",
    "for epoch in range(epochs):\n",
    "    model.train()\n",
    "    epoch_loss = 0\n",
    "    for data in train_loader:\n",
    "        inputs, targets = data\n",
    "        inputs, targets = inputs.float().to(device), targets.float().to(device)\n",
    "        inputs = inputs.unsqueeze(1) \n",
    "        optimizer.zero_grad()\n",
    "        outputs = model(inputs)\n",
    "        loss = criterion(outputs.squeeze(), targets)\n",
    "        loss.backward()\n",
    "        optimizer.step()\n",
    "        epoch_loss += loss.item() * inputs.size(0)\n",
    "    print(f'Epoch {epoch+1}/{epochs}, fim em: {datetime.now()}')\n",
    "    \n",
    "    model.eval()\n",
    "    with torch.no_grad():\n",
    "        all_outputs = []\n",
    "        all_targets = []\n",
    "        for data in test_loader:\n",
    "            inputs, targets = data\n",
    "            inputs, targets = inputs.float().to(device), targets.float().to(device)\n",
    "            inputs = inputs.unsqueeze(1)  \n",
    "            outputs = model(inputs)\n",
    "            all_outputs.append(outputs.cpu())\n",
    "            all_targets.append(targets.cpu())\n",
    "        \n",
    "        all_outputs = torch.cat(all_outputs)\n",
    "        all_targets = torch.cat(all_targets)\n",
    "\n",
    "        y_pred = (all_outputs > 0.5).float().numpy()\n",
    "        y_true = all_targets.numpy()\n",
    "        print(f'Epoch {epoch+1}/{epochs}, avaliada em: {datetime.now()}')\n",
    "\n",
    "        confusion = confusion_matrix(y_true, y_pred)\n",
    "        tn, fp, fn, tp = confusion.ravel()\n",
    "        accuracy = accuracy_score(y_true, y_pred)\n",
    "        precision = precision_score(y_true, y_pred)\n",
    "        recall = recall_score(y_true, y_pred)\n",
    "        specificity = tn / (tn + fp)\n",
    "        f1 = f1_score(y_true, y_pred)\n",
    "        balanced_accuracy = balanced_accuracy_score(y_true, y_pred)\n",
    "        false_alarm_rate = fp / (fp + tn) if (fp + tn) > 0 else 0\n",
    "        \n",
    "\n",
    "    results.append([epoch+1, accuracy, balanced_accuracy, precision, recall, specificity, f1, false_alarm_rate, tn, fp, fn, tp])"
   ]
  },
  {
   "cell_type": "code",
   "execution_count": 11,
   "metadata": {},
   "outputs": [
    {
     "name": "stderr",
     "output_type": "stream",
     "text": [
      "c:\\Users\\rafae\\miniconda3\\envs\\env-tcc\\lib\\functools.py:889: DataOrientationWarning: Row orientation inferred during DataFrame construction. Explicitly specify the orientation by passing `orient=\"row\"` to silence this warning.\n",
      "  return dispatch(args[0].__class__)(*args, **kw)\n"
     ]
    },
    {
     "data": {
      "text/html": [
       "<div><style>\n",
       ".dataframe > thead > tr,\n",
       ".dataframe > tbody > tr {\n",
       "  text-align: right;\n",
       "  white-space: pre-wrap;\n",
       "}\n",
       "</style>\n",
       "<small>shape: (10, 12)</small><table border=\"1\" class=\"dataframe\"><thead><tr><th>Epoch</th><th>Accuracy</th><th>Balanced Accuracy</th><th>Precision</th><th>Recall</th><th>Specificity</th><th>F1-score</th><th>False Alarm Rate</th><th>tn</th><th>fp</th><th>fn</th><th>tp</th></tr><tr><td>i64</td><td>f64</td><td>f64</td><td>f64</td><td>f64</td><td>f64</td><td>f64</td><td>f64</td><td>i64</td><td>i64</td><td>i64</td><td>i64</td></tr></thead><tbody><tr><td>1</td><td>0.839677</td><td>0.5</td><td>0.839677</td><td>1.0</td><td>0.0</td><td>0.912853</td><td>1.0</td><td>0</td><td>26705</td><td>0</td><td>139865</td></tr><tr><td>2</td><td>0.839677</td><td>0.5</td><td>0.839677</td><td>1.0</td><td>0.0</td><td>0.912853</td><td>1.0</td><td>0</td><td>26705</td><td>0</td><td>139865</td></tr><tr><td>3</td><td>0.883821</td><td>0.643548</td><td>0.880309</td><td>0.997226</td><td>0.289871</td><td>0.935127</td><td>0.710129</td><td>7741</td><td>18964</td><td>388</td><td>139477</td></tr><tr><td>4</td><td>0.977955</td><td>0.960106</td><td>0.987354</td><td>0.98638</td><td>0.933833</td><td>0.986867</td><td>0.066167</td><td>24938</td><td>1767</td><td>1905</td><td>137960</td></tr><tr><td>5</td><td>0.977241</td><td>0.959953</td><td>0.987469</td><td>0.9854</td><td>0.934507</td><td>0.986433</td><td>0.065493</td><td>24956</td><td>1749</td><td>2042</td><td>137823</td></tr><tr><td>6</td><td>0.977223</td><td>0.960018</td><td>0.987503</td><td>0.985343</td><td>0.934694</td><td>0.986422</td><td>0.065306</td><td>24961</td><td>1744</td><td>2050</td><td>137815</td></tr><tr><td>7</td><td>0.977331</td><td>0.960234</td><td>0.987575</td><td>0.9854</td><td>0.935068</td><td>0.986486</td><td>0.064932</td><td>24971</td><td>1734</td><td>2042</td><td>137823</td></tr><tr><td>8</td><td>0.977709</td><td>0.961338</td><td>0.987986</td><td>0.985436</td><td>0.93724</td><td>0.986709</td><td>0.06276</td><td>25029</td><td>1676</td><td>2037</td><td>137828</td></tr><tr><td>9</td><td>0.978273</td><td>0.962962</td><td>0.988589</td><td>0.9855</td><td>0.940423</td><td>0.987042</td><td>0.059577</td><td>25114</td><td>1591</td><td>2028</td><td>137837</td></tr><tr><td>10</td><td>0.978832</td><td>0.964612</td><td>0.989207</td><td>0.985543</td><td>0.943681</td><td>0.987372</td><td>0.056319</td><td>25201</td><td>1504</td><td>2022</td><td>137843</td></tr></tbody></table></div>"
      ],
      "text/plain": [
       "shape: (10, 12)\n",
       "┌───────┬──────────┬───────────────────┬───────────┬───┬───────┬───────┬──────┬────────┐\n",
       "│ Epoch ┆ Accuracy ┆ Balanced Accuracy ┆ Precision ┆ … ┆ tn    ┆ fp    ┆ fn   ┆ tp     │\n",
       "│ ---   ┆ ---      ┆ ---               ┆ ---       ┆   ┆ ---   ┆ ---   ┆ ---  ┆ ---    │\n",
       "│ i64   ┆ f64      ┆ f64               ┆ f64       ┆   ┆ i64   ┆ i64   ┆ i64  ┆ i64    │\n",
       "╞═══════╪══════════╪═══════════════════╪═══════════╪═══╪═══════╪═══════╪══════╪════════╡\n",
       "│ 1     ┆ 0.839677 ┆ 0.5               ┆ 0.839677  ┆ … ┆ 0     ┆ 26705 ┆ 0    ┆ 139865 │\n",
       "│ 2     ┆ 0.839677 ┆ 0.5               ┆ 0.839677  ┆ … ┆ 0     ┆ 26705 ┆ 0    ┆ 139865 │\n",
       "│ 3     ┆ 0.883821 ┆ 0.643548          ┆ 0.880309  ┆ … ┆ 7741  ┆ 18964 ┆ 388  ┆ 139477 │\n",
       "│ 4     ┆ 0.977955 ┆ 0.960106          ┆ 0.987354  ┆ … ┆ 24938 ┆ 1767  ┆ 1905 ┆ 137960 │\n",
       "│ 5     ┆ 0.977241 ┆ 0.959953          ┆ 0.987469  ┆ … ┆ 24956 ┆ 1749  ┆ 2042 ┆ 137823 │\n",
       "│ 6     ┆ 0.977223 ┆ 0.960018          ┆ 0.987503  ┆ … ┆ 24961 ┆ 1744  ┆ 2050 ┆ 137815 │\n",
       "│ 7     ┆ 0.977331 ┆ 0.960234          ┆ 0.987575  ┆ … ┆ 24971 ┆ 1734  ┆ 2042 ┆ 137823 │\n",
       "│ 8     ┆ 0.977709 ┆ 0.961338          ┆ 0.987986  ┆ … ┆ 25029 ┆ 1676  ┆ 2037 ┆ 137828 │\n",
       "│ 9     ┆ 0.978273 ┆ 0.962962          ┆ 0.988589  ┆ … ┆ 25114 ┆ 1591  ┆ 2028 ┆ 137837 │\n",
       "│ 10    ┆ 0.978832 ┆ 0.964612          ┆ 0.989207  ┆ … ┆ 25201 ┆ 1504  ┆ 2022 ┆ 137843 │\n",
       "└───────┴──────────┴───────────────────┴───────────┴───┴───────┴───────┴──────┴────────┘"
      ]
     },
     "execution_count": 11,
     "metadata": {},
     "output_type": "execute_result"
    }
   ],
   "source": [
    "metrics_df = pl.DataFrame(\n",
    "    results,\n",
    "    schema=['Epoch', 'Accuracy', 'Balanced Accuracy', 'Precision', 'Recall', 'Specificity', 'F1-score', 'False Alarm Rate', 'tn', 'fp', 'fn', 'tp']\n",
    ")\n",
    "metrics_df"
   ]
  }
 ],
 "metadata": {
  "kernelspec": {
   "display_name": "env-tcc",
   "language": "python",
   "name": "python3"
  },
  "language_info": {
   "codemirror_mode": {
    "name": "ipython",
    "version": 3
   },
   "file_extension": ".py",
   "mimetype": "text/x-python",
   "name": "python",
   "nbconvert_exporter": "python",
   "pygments_lexer": "ipython3",
   "version": "3.10.13"
  }
 },
 "nbformat": 4,
 "nbformat_minor": 2
}
